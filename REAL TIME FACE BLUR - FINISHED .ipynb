{
 "cells": [
  {
   "cell_type": "code",
   "execution_count": null,
   "id": "e3a3de71",
   "metadata": {},
   "outputs": [],
   "source": [
    "import cv2\n",
    "import numpy as np\n",
    "\n",
    "cap = cv2.VideoCapture(0)\n",
    "\n",
    "\n",
    "def image_preprocess(frame):\n",
    "    face_detector = cv2.CascadeClassifier(cv2.data.haarcascades\n",
    "                                          + 'haarcascade_frontalface_default.xml')\n",
    "    resized_image = cv2.resize(frame, (640, 640))\n",
    "    gray_image = cv2.cvtColor(resized_image,\n",
    "                              cv2.COLOR_BGR2GRAY)\n",
    "    face_rects = face_detector.detectMultiScale(\n",
    "        gray_image, 1.04, 5, minSize=(20, 20))\n",
    "    return resized_image, face_rects\n",
    "\n",
    "\n",
    "def face_blur(resized_frame, face_rects):\n",
    "    for (x, y, w, h) in face_rects:\n",
    "        \n",
    "        center_x = x + w // 3\n",
    "        center_y = y + h // 3\n",
    "        radius = h // 1\n",
    "\n",
    "    \n",
    "        mask = np.zeros((resized_frame.shape[:3]), np.uint8)\n",
    "       \n",
    "        cv2.circle(mask, (center_x, center_y), radius,\n",
    "                   (255, 255, 255), -1)\n",
    "       \n",
    "        blurred_image = cv2.medianBlur(resized_frame, 99)\n",
    "        \n",
    "        resized_frame = np.where(mask > 0, blurred_image,\n",
    "                                 resized_frame)\n",
    "    return resized_frame\n",
    "\n",
    "\n",
    "def main():\n",
    "    while True:\n",
    "        success, frame = cap.read()\n",
    "        resized_input, face_rects = image_preprocess(frame)\n",
    "        blurred_image = face_blur(resized_input, face_rects)\n",
    "        cv2.imshow(\"Blurred image\", cv2.resize(blurred_image,\n",
    "                                               (500, 500)))\n",
    "        if cv2.waitKey(1) == ord(\"q\"):\n",
    "            break\n",
    "\n",
    "\n",
    "if __name__ == \"__main__\":\n",
    "    main()"
   ]
  }
 ],
 "metadata": {
  "kernelspec": {
   "display_name": "Python 3 (ipykernel)",
   "language": "python",
   "name": "python3"
  },
  "language_info": {
   "codemirror_mode": {
    "name": "ipython",
    "version": 3
   },
   "file_extension": ".py",
   "mimetype": "text/x-python",
   "name": "python",
   "nbconvert_exporter": "python",
   "pygments_lexer": "ipython3",
   "version": "3.10.8"
  }
 },
 "nbformat": 4,
 "nbformat_minor": 5
}
